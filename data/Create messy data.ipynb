{
 "cells": [
  {
   "cell_type": "code",
   "execution_count": 1,
   "metadata": {
    "collapsed": true
   },
   "outputs": [],
   "source": [
    "import pandas as pd\n",
    "import numpy as np"
   ]
  },
  {
   "cell_type": "code",
   "execution_count": 2,
   "metadata": {
    "collapsed": false
   },
   "outputs": [
    {
     "data": {
      "text/html": [
       "<div>\n",
       "<table border=\"1\" class=\"dataframe\">\n",
       "  <thead>\n",
       "    <tr style=\"text-align: right;\">\n",
       "      <th></th>\n",
       "      <th>Year</th>\n",
       "      <th>Quarter</th>\n",
       "      <th>possession_type</th>\n",
       "      <th>possession_action</th>\n",
       "      <th>LA_code</th>\n",
       "      <th>local_authority</th>\n",
       "      <th>county_ua</th>\n",
       "      <th>region</th>\n",
       "      <th>value_msk</th>\n",
       "    </tr>\n",
       "  </thead>\n",
       "  <tbody>\n",
       "    <tr>\n",
       "      <th>0</th>\n",
       "      <td>2003</td>\n",
       "      <td>Q1</td>\n",
       "      <td>Accelerated_Landlord</td>\n",
       "      <td>Claims</td>\n",
       "      <td>E06000055</td>\n",
       "      <td>Bedford UA</td>\n",
       "      <td>Bedford UA</td>\n",
       "      <td>East</td>\n",
       "      <td>9</td>\n",
       "    </tr>\n",
       "    <tr>\n",
       "      <th>1</th>\n",
       "      <td>2003</td>\n",
       "      <td>Q1</td>\n",
       "      <td>Accelerated_Landlord</td>\n",
       "      <td>Claims</td>\n",
       "      <td>E07000008</td>\n",
       "      <td>Cambridge</td>\n",
       "      <td>Cambridgeshire</td>\n",
       "      <td>East</td>\n",
       "      <td>7</td>\n",
       "    </tr>\n",
       "    <tr>\n",
       "      <th>2</th>\n",
       "      <td>2003</td>\n",
       "      <td>Q1</td>\n",
       "      <td>Accelerated_Landlord</td>\n",
       "      <td>Claims</td>\n",
       "      <td>E07000009</td>\n",
       "      <td>East Cambridgeshire</td>\n",
       "      <td>Cambridgeshire</td>\n",
       "      <td>East</td>\n",
       "      <td>NaN</td>\n",
       "    </tr>\n",
       "    <tr>\n",
       "      <th>3</th>\n",
       "      <td>2003</td>\n",
       "      <td>Q1</td>\n",
       "      <td>Accelerated_Landlord</td>\n",
       "      <td>Claims</td>\n",
       "      <td>E07000010</td>\n",
       "      <td>Fenland</td>\n",
       "      <td>Cambridgeshire</td>\n",
       "      <td>East</td>\n",
       "      <td>9</td>\n",
       "    </tr>\n",
       "    <tr>\n",
       "      <th>4</th>\n",
       "      <td>2003</td>\n",
       "      <td>Q1</td>\n",
       "      <td>Accelerated_Landlord</td>\n",
       "      <td>Claims</td>\n",
       "      <td>E07000011</td>\n",
       "      <td>Huntingdonshire</td>\n",
       "      <td>Cambridgeshire</td>\n",
       "      <td>East</td>\n",
       "      <td>NaN</td>\n",
       "    </tr>\n",
       "  </tbody>\n",
       "</table>\n",
       "</div>"
      ],
      "text/plain": [
       "   Year Quarter       possession_type possession_action    LA_code  \\\n",
       "0  2003      Q1  Accelerated_Landlord            Claims  E06000055   \n",
       "1  2003      Q1  Accelerated_Landlord            Claims  E07000008   \n",
       "2  2003      Q1  Accelerated_Landlord            Claims  E07000009   \n",
       "3  2003      Q1  Accelerated_Landlord            Claims  E07000010   \n",
       "4  2003      Q1  Accelerated_Landlord            Claims  E07000011   \n",
       "\n",
       "       local_authority       county_ua region  value_msk  \n",
       "0           Bedford UA      Bedford UA   East          9  \n",
       "1            Cambridge  Cambridgeshire   East          7  \n",
       "2  East Cambridgeshire  Cambridgeshire   East        NaN  \n",
       "3              Fenland  Cambridgeshire   East          9  \n",
       "4      Huntingdonshire  Cambridgeshire   East        NaN  "
      ]
     },
     "execution_count": 2,
     "metadata": {},
     "output_type": "execute_result"
    }
   ],
   "source": [
    "all_data = pd.read_csv(\"/Users/robinlinacre/Downloads/mortgage-and-landlord-possession-statistical-data/LA CSV masked.csv\", na_values=\"-\")\n",
    "all_data = all_data[all_data[\"possession_type\"] == \"Accelerated_Landlord\"]\n",
    "all_data.head()"
   ]
  },
  {
   "cell_type": "code",
   "execution_count": 3,
   "metadata": {
    "collapsed": false
   },
   "outputs": [
    {
     "data": {
      "text/html": [
       "<div>\n",
       "<table border=\"1\" class=\"dataframe\">\n",
       "  <thead>\n",
       "    <tr style=\"text-align: right;\">\n",
       "      <th>possession_action</th>\n",
       "      <th>Year</th>\n",
       "      <th>Quarter</th>\n",
       "      <th>LA_code</th>\n",
       "      <th>Claims</th>\n",
       "      <th>Outright_Orders</th>\n",
       "      <th>Repossessions</th>\n",
       "      <th>Suspended_Orders</th>\n",
       "      <th>Warrants</th>\n",
       "    </tr>\n",
       "  </thead>\n",
       "  <tbody>\n",
       "    <tr>\n",
       "      <th>0</th>\n",
       "      <td>2003</td>\n",
       "      <td>Q1</td>\n",
       "      <td>1000</td>\n",
       "      <td>428</td>\n",
       "      <td>341</td>\n",
       "      <td>183</td>\n",
       "      <td>NaN</td>\n",
       "      <td>209</td>\n",
       "    </tr>\n",
       "    <tr>\n",
       "      <th>1</th>\n",
       "      <td>2003</td>\n",
       "      <td>Q1</td>\n",
       "      <td>E06000001</td>\n",
       "      <td>6</td>\n",
       "      <td>NaN</td>\n",
       "      <td>NaN</td>\n",
       "      <td>NaN</td>\n",
       "      <td>NaN</td>\n",
       "    </tr>\n",
       "    <tr>\n",
       "      <th>2</th>\n",
       "      <td>2003</td>\n",
       "      <td>Q1</td>\n",
       "      <td>E06000002</td>\n",
       "      <td>NaN</td>\n",
       "      <td>NaN</td>\n",
       "      <td>NaN</td>\n",
       "      <td>NaN</td>\n",
       "      <td>NaN</td>\n",
       "    </tr>\n",
       "    <tr>\n",
       "      <th>3</th>\n",
       "      <td>2003</td>\n",
       "      <td>Q1</td>\n",
       "      <td>E06000003</td>\n",
       "      <td>NaN</td>\n",
       "      <td>NaN</td>\n",
       "      <td>NaN</td>\n",
       "      <td>NaN</td>\n",
       "      <td>NaN</td>\n",
       "    </tr>\n",
       "    <tr>\n",
       "      <th>4</th>\n",
       "      <td>2003</td>\n",
       "      <td>Q1</td>\n",
       "      <td>E06000004</td>\n",
       "      <td>NaN</td>\n",
       "      <td>6</td>\n",
       "      <td>NaN</td>\n",
       "      <td>NaN</td>\n",
       "      <td>NaN</td>\n",
       "    </tr>\n",
       "  </tbody>\n",
       "</table>\n",
       "</div>"
      ],
      "text/plain": [
       "possession_action  Year Quarter    LA_code  Claims  Outright_Orders  \\\n",
       "0                  2003      Q1       1000     428              341   \n",
       "1                  2003      Q1  E06000001       6              NaN   \n",
       "2                  2003      Q1  E06000002     NaN              NaN   \n",
       "3                  2003      Q1  E06000003     NaN              NaN   \n",
       "4                  2003      Q1  E06000004     NaN                6   \n",
       "\n",
       "possession_action  Repossessions  Suspended_Orders  Warrants  \n",
       "0                            183               NaN       209  \n",
       "1                            NaN               NaN       NaN  \n",
       "2                            NaN               NaN       NaN  \n",
       "3                            NaN               NaN       NaN  \n",
       "4                            NaN               NaN       NaN  "
      ]
     },
     "execution_count": 3,
     "metadata": {},
     "output_type": "execute_result"
    }
   ],
   "source": [
    "data = all_data.pivot_table(index=[\"possession_type\",  \"Year\", \"Quarter\", \"LA_code\"], columns=[\"possession_action\"], values=\"value_msk\", aggfunc=\"mean\").reset_index()\n",
    "data = data.drop(\"possession_type\",axis=1)\n",
    "data.head()\n",
    "\n"
   ]
  },
  {
   "cell_type": "code",
   "execution_count": 4,
   "metadata": {
    "collapsed": false
   },
   "outputs": [],
   "source": [
    "data[\"date\"] = data[\"Year\"].astype(str) + data[\"Quarter\"]\n",
    "data[\"date\"] = pd.to_datetime(data[\"date\"])\n",
    "data = data.drop([\"Year\", \"Quarter\"], axis=1)"
   ]
  },
  {
   "cell_type": "code",
   "execution_count": 5,
   "metadata": {
    "collapsed": false
   },
   "outputs": [],
   "source": [
    "data.columns = [c.lower() for c in data.columns]\n",
    "# data = data.fillna(0)\n",
    "data = data.drop([\"suspended_orders\"], axis=1)\n",
    "data = data[data[\"la_code\"].str.len() > 7]\n",
    "data.to_csv(\"accelerated_landlord_data.csv\", index=False)"
   ]
  },
  {
   "cell_type": "code",
   "execution_count": null,
   "metadata": {
    "collapsed": false
   },
   "outputs": [],
   "source": []
  },
  {
   "cell_type": "code",
   "execution_count": null,
   "metadata": {
    "collapsed": true
   },
   "outputs": [],
   "source": []
  }
 ],
 "metadata": {
  "kernelspec": {
   "display_name": "Python 2",
   "language": "python",
   "name": "python2"
  },
  "language_info": {
   "codemirror_mode": {
    "name": "ipython",
    "version": 2
   },
   "file_extension": ".py",
   "mimetype": "text/x-python",
   "name": "python",
   "nbconvert_exporter": "python",
   "pygments_lexer": "ipython2",
   "version": "2.7.11"
  }
 },
 "nbformat": 4,
 "nbformat_minor": 0
}
